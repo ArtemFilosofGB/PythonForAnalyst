{
  "cells": [
    {
      "cell_type": "markdown",
      "metadata": {
        "id": "rfRzlEmPYuFl"
      },
      "source": [
        "## Задание 1\n",
        "\n",
        "1.1 Соедините два словаря в один\n",
        "\n",
        "1.2 Напишите функцию, которая на вход принимает два\n",
        "словаря и возвращает один объединенный словарь\n",
        "Используйте аннотирование типов"
      ]
    },
    {
      "cell_type": "markdown",
      "metadata": {
        "id": "Y1608cd6dFse"
      },
      "source": [
        "### Пункт 1"
      ]
    },
    {
      "cell_type": "code",
      "execution_count": null,
      "metadata": {
        "colab": {
          "base_uri": "https://localhost:8080/"
        },
        "id": "otxfVWjhdG6l",
        "outputId": "7c75f156-65e2-430d-84f1-b26271044b46"
      },
      "outputs": [
        {
          "data": {
            "text/plain": [
              "{'One': 1, 'Two': 2, 'Three': 3, 'Four': 4, 'Five': 5, 'Six': 6}"
            ]
          },
          "execution_count": 1,
          "metadata": {},
          "output_type": "execute_result"
        }
      ],
      "source": [
        "dict1 = {\"One\": 1, \"Two\": 2, \"Three\": 3}\n",
        "dict2 = {\"Four\": 4, \"Five\": 5, \"Six\": 6}\n",
        "dict1.update(dict2) # dict1 = dict1 + dict2\n",
        "dict1"
      ]
    },
    {
      "cell_type": "markdown",
      "metadata": {
        "id": "uWDIlz1ldvDB"
      },
      "source": [
        "### Пункт 2\n"
      ]
    },
    {
      "cell_type": "code",
      "execution_count": null,
      "metadata": {
        "colab": {
          "base_uri": "https://localhost:8080/"
        },
        "id": "Xd8szIHMdwcF",
        "outputId": "5056a8d9-2db6-4472-82eb-da7d555cc9e2"
      },
      "outputs": [
        {
          "data": {
            "text/plain": [
              "{'One': 1, 'Two': 2, 'Three': 3, 'Four': 4, 'Five': 5, 'Six': 6}"
            ]
          },
          "execution_count": 2,
          "metadata": {},
          "output_type": "execute_result"
        }
      ],
      "source": [
        "def merge_dicts(dict1: dict, dict2: dict) -> dict:\n",
        "  dict1.update(dict2)\n",
        "  return dict1\n",
        "\n",
        "merge_dicts(dict1, dict2)\n"
      ]
    },
    {
      "cell_type": "markdown",
      "metadata": {
        "id": "oB6zi38heOBo"
      },
      "source": [
        "## Задание 2\n",
        "\n",
        "Напишите функцию, которая из двух списков, делает один словарь, где\n",
        "элементы из первого списка - ключи, а элементы из второго списка -\n",
        "значения\n",
        "\n",
        "Используйте аннотирование типов\n",
        "\n",
        "2.1 Используя цикл for\n",
        "\n",
        "2.2 Используя dict comprehensions"
      ]
    },
    {
      "cell_type": "markdown",
      "metadata": {
        "id": "5wDS2TcBeRxQ"
      },
      "source": [
        "### Пункт 1"
      ]
    },
    {
      "cell_type": "code",
      "execution_count": null,
      "metadata": {
        "colab": {
          "base_uri": "https://localhost:8080/"
        },
        "id": "UyFicELneVcg",
        "outputId": "72d0beee-2356-4b8f-bd97-fdefc5b333f2"
      },
      "outputs": [
        {
          "data": {
            "text/plain": [
              "{'One': 1, 'Two': 2, 'Three': 3}"
            ]
          },
          "execution_count": 3,
          "metadata": {},
          "output_type": "execute_result"
        }
      ],
      "source": [
        "keys = [\"One\", \"Two\", \"Three\"]\n",
        "values = [1, 2, 3]\n",
        "result_dict = {} # dict()\n",
        "for i in range(len(keys)):\n",
        "  result_dict[keys[i]] = values[i]\n",
        "result_dict"
      ]
    },
    {
      "cell_type": "markdown",
      "metadata": {
        "id": "obu4VY4Ye7g2"
      },
      "source": [
        "### Пункт 2"
      ]
    },
    {
      "cell_type": "code",
      "execution_count": null,
      "metadata": {
        "colab": {
          "base_uri": "https://localhost:8080/"
        },
        "id": "h9PYsgUxe94s",
        "outputId": "a178a300-bb0e-4895-b6fa-dabfebdc8787"
      },
      "outputs": [
        {
          "data": {
            "text/plain": [
              "{'One': 1, 'Two': 2, 'Three': 3}"
            ]
          },
          "execution_count": 4,
          "metadata": {},
          "output_type": "execute_result"
        }
      ],
      "source": [
        "{keys[i]: values[i] for i in range(len(keys))}\n"
      ]
    },
    {
      "cell_type": "markdown",
      "metadata": {
        "id": "uy3mFXDEfTQM"
      },
      "source": [
        "## Задание 3\n",
        "\n",
        "Извлеките только два ключа name и age из представленного\n",
        "словаря\n",
        "\n",
        "3.1 Напишите функцию с циклом for\n",
        "Функция на вход принимает:\n",
        "исходный словарь\n",
        "ключи, которые нужно извлечь (аргумент по\n",
        "умолчанию)\n",
        "На выходе словарь с нужными ключами\n",
        "Используйте аннотирование типов\n",
        "\n",
        "3.2 Используя dict comprehensions"
      ]
    },
    {
      "cell_type": "markdown",
      "metadata": {
        "id": "BFcPpJHFfYhJ"
      },
      "source": [
        "### Пункт 1\n"
      ]
    },
    {
      "cell_type": "code",
      "execution_count": null,
      "metadata": {
        "id": "OB5NUDrCfsUy"
      },
      "outputs": [],
      "source": [
        "def get_keys_from_dict(base_dict: dict, keys: list=[\"name\", \"age\"]) -> dict:\n",
        "  result_dict = {}\n",
        "  for key in keys:\n",
        "    result_dict[key] = base_dict[key]\n",
        "  return result_dict"
      ]
    },
    {
      "cell_type": "code",
      "execution_count": null,
      "metadata": {
        "id": "fIu6zPc-faY-"
      },
      "outputs": [],
      "source": [
        "client_dict = {\n",
        "    \"name\": \"John\",\n",
        "    \"age\": 25,\n",
        "    \"salary\": 5000,\n",
        "    \"city\": \"Moscow\"\n",
        "}\n",
        "# get_keys_from_dict(client_dict)\n",
        "get_keys_from_dict(client_dict, [\"salary\", \"city\"])"
      ]
    },
    {
      "cell_type": "markdown",
      "metadata": {
        "id": "twedSIuLhAv0"
      },
      "source": [
        "### Пункт 2"
      ]
    },
    {
      "cell_type": "code",
      "execution_count": null,
      "metadata": {
        "colab": {
          "base_uri": "https://localhost:8080/"
        },
        "id": "6dL_F0BHhCLX",
        "outputId": "5f4430a7-eb43-4481-e790-822f5a8d5d33"
      },
      "outputs": [
        {
          "data": {
            "text/plain": [
              "{'name': 'John', 'age': 25}"
            ]
          },
          "execution_count": 10,
          "metadata": {},
          "output_type": "execute_result"
        }
      ],
      "source": [
        "keys = ['name', 'age']\n",
        "{key: client_dict[key] for key in keys}"
      ]
    },
    {
      "cell_type": "markdown",
      "metadata": {
        "id": "8zqILCA-jPne"
      },
      "source": [
        "## Задание 4\n",
        "\n",
        "4.1 Сгенерируйте случайные целые числа от 0 до\n",
        "100 в количестве 5 штук с помощью модуля\n",
        "random\n",
        "\n",
        "● Зафиксируйте псевдогенерацию, чтобы\n",
        "сгенерированные значения всегда были одинаковые\n",
        "\n",
        "● Используйте list comprehensions"
      ]
    },
    {
      "cell_type": "markdown",
      "metadata": {
        "id": "-kI5ZRnhjSPk"
      },
      "source": [
        "### Пункт 1"
      ]
    },
    {
      "cell_type": "code",
      "execution_count": null,
      "metadata": {
        "colab": {
          "base_uri": "https://localhost:8080/"
        },
        "id": "PwUzSAGtjUA3",
        "outputId": "eaf92335-492c-497c-88eb-37d26929e7a5"
      },
      "outputs": [
        {
          "data": {
            "text/plain": [
              "[29, 47, 48, 16, 24]"
            ]
          },
          "execution_count": 17,
          "metadata": {},
          "output_type": "execute_result"
        }
      ],
      "source": [
        "import random\n",
        "\n",
        "random.seed(8)\n",
        "\n",
        "data = [random.randint(0, 100) for i in range(5)]\n",
        "data"
      ]
    },
    {
      "cell_type": "code",
      "execution_count": null,
      "metadata": {
        "colab": {
          "base_uri": "https://localhost:8080/"
        },
        "id": "_ujeYva8jn5O",
        "outputId": "ac6971d5-1039-41a7-dc32-6b09baa50bfa"
      },
      "outputs": [
        {
          "data": {
            "text/plain": [
              "[29, 47, 48, 16, 24]"
            ]
          },
          "execution_count": 12,
          "metadata": {},
          "output_type": "execute_result"
        }
      ],
      "source": [
        "random.seed(8)\n",
        "data = [random.randint(0, 100) for i in range(5)]\n",
        "data"
      ]
    },
    {
      "cell_type": "markdown",
      "metadata": {
        "id": "FClmX26qj1Sm"
      },
      "source": [
        "4.2 Напишите генератор\n",
        "\n",
        "Генератор на вход принимает список с данными о клиенте (данные\n",
        "из пункта 4.1)\n",
        "Внутри генератора реализуйте обход по списку с данными\n",
        "\n",
        "На каждой итерации генератор будет возвращать кортеж из двух\n",
        "элементов:\n",
        "1. данные по клиенту (в зависимости от итерации, на 0 итерации\n",
        "вернется 0 элемент, на 1 итерации вернется 1 элемент и тд)\n",
        "2. целочисленное значение, которое показывает, сколько секунд\n",
        "прошло с предыдущей итерации\n",
        "\n",
        "Примечание: секунды, которые возвращаются должны показывать время не\n",
        "с начала запуска генератора, а именно то время, которое прошло с\n",
        "предыдущей итерации. А значит время на первой итерации должно\n",
        "равняться 0.\n",
        "Используйте функцию time из модуля time для подсчета времени.\n",
        "Чтобы проверить работу таймера, запустите проход по\n",
        "генератору в цикле с time.sleep(2)\n"
      ]
    },
    {
      "cell_type": "code",
      "execution_count": null,
      "metadata": {
        "colab": {
          "base_uri": "https://localhost:8080/"
        },
        "id": "dD4YAaOEj45k",
        "outputId": "cab6114e-96f4-40ae-eac3-addf0f2e230f"
      },
      "outputs": [
        {
          "name": "stdout",
          "output_type": "stream",
          "text": [
            "0 29\n",
            "2.004196882247925 47\n",
            "2.0036540031433105 48\n",
            "2.0023536682128906 16\n",
            "2.0022690296173096 24\n"
          ]
        }
      ],
      "source": [
        "import time\n",
        "\n",
        "\n",
        "data = [29, 47, 48, 16, 24]\n",
        "last_time = None\n",
        "for item in data:\n",
        "  current_time = time.time()\n",
        "\n",
        "  if last_time: # last_time not is None\n",
        "    delta = current_time - last_time\n",
        "  else:\n",
        "    delta = 0\n",
        "\n",
        "  last_time = time.time()\n",
        "  print(delta, item)\n",
        "  time.sleep(2)\n"
      ]
    },
    {
      "cell_type": "markdown",
      "metadata": {
        "id": "-WN3eGFBlnZV"
      },
      "source": [
        "### Задание 6\n",
        "\n",
        "\n",
        "Напишите функцию, которая может принимать любое\n",
        "количество трат пользователя и считать сумму и среднее.\n",
        "\n",
        "* На вход поступают целочисленные значения в любом\n",
        "количестве\n",
        "\n",
        "* На выходе словарь с ключами суммы трат и средней\n",
        "траты"
      ]
    },
    {
      "cell_type": "code",
      "execution_count": 1,
      "metadata": {
        "colab": {
          "base_uri": "https://localhost:8080/"
        },
        "id": "6D8rH3IYlroA",
        "outputId": "9c0603c7-3e54-4ac9-e4f1-85ef2c7d1f59"
      },
      "outputs": [
        {
          "data": {
            "text/plain": [
              "{'sum': 1079, 'mean': 215.8, 'count': 5}"
            ]
          },
          "execution_count": 1,
          "metadata": {},
          "output_type": "execute_result"
        }
      ],
      "source": [
        "def calc(*args):\n",
        "  sum_products = sum(args)\n",
        "  count_p = len(args)\n",
        "  return {\n",
        "      \"sum\": sum_products,\n",
        "      \"mean\": sum_products / count_p,\n",
        "      \"count\": count_p\n",
        "  }\n",
        "\n",
        "\n",
        "calc(130, 160, 50, 239, 500)\n"
      ]
    }
  ],
  "metadata": {
    "colab": {
      "provenance": [],
      "toc_visible": true
    },
    "kernelspec": {
      "display_name": "Python 3",
      "name": "python3"
    },
    "language_info": {
      "name": "python",
      "version": "3.11.8"
    }
  },
  "nbformat": 4,
  "nbformat_minor": 0
}
