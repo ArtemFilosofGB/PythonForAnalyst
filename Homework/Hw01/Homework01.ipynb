{
 "cells": [
  {
   "cell_type": "markdown",
   "metadata": {},
   "source": [
    "# Homework 01"
   ]
  },
  {
   "cell_type": "markdown",
   "metadata": {},
   "source": [
    "### 01\n",
    "Дан список adv с затратами на рекламу.\n",
    "Но в данных есть ошибки, некоторые затраты имеют отрицательную величину.\n",
    "Удалите такие значения из списка и посчитайте суммарные затраты.\n",
    "Запишите их в переменную x.\n",
    "Используйте list comprehensions.\n",
    "\n",
    "Пример\n",
    "\n",
    "На входе:\n",
    "\n",
    "\n",
    "adv = [100, 125, -90, 345, 655, -1, 0, 200]\n",
    "\n",
    "1425"
   ]
  },
  {
   "cell_type": "code",
   "execution_count": 1,
   "metadata": {},
   "outputs": [
    {
     "name": "stdout",
     "output_type": "stream",
     "text": [
      "1425\n"
     ]
    }
   ],
   "source": [
    "adv = [100, 125, -90, 345, 655, -1, 0, 200]\n",
    "\n",
    "# Введите ваше решение ниже\n",
    "x =sum([x for x in adv if x > 0])\n",
    "print(x)"
   ]
  },
  {
   "cell_type": "markdown",
   "metadata": {},
   "source": [
    "### 02\n",
    "На складе лежат разные фрукты в разном количестве.\n",
    "Нужно написать функцию total_fruits, которая на вход принимает любое количество названий фруктов и их количество, а возвращает общее количество фруктов на складе.\n",
    "\n",
    "можно решить через *kwargs\n",
    "\n",
    "Пример\n",
    "\n",
    "После вашего кода будет добавлена следующая строка:\n",
    "\n",
    "\n",
    "print(total_fruits(apples=10, bananas=5, oranges=8))\n",
    "На выходе:\n",
    "\n",
    "\n",
    "23"
   ]
  },
  {
   "cell_type": "code",
   "execution_count": null,
   "metadata": {},
   "outputs": [],
   "source": []
  },
  {
   "cell_type": "markdown",
   "metadata": {},
   "source": [
    "## 03\n"
   ]
  },
  {
   "cell_type": "code",
   "execution_count": null,
   "metadata": {},
   "outputs": [],
   "source": [
    "x = sum([income [i] for i in range (len(dates)) if dates[i].split('-')[1] == '11'])"
   ]
  },
  {
   "cell_type": "markdown",
   "metadata": {},
   "source": []
  }
 ],
 "metadata": {
  "kernelspec": {
   "display_name": "Python 3",
   "language": "python",
   "name": "python3"
  },
  "language_info": {
   "codemirror_mode": {
    "name": "ipython",
    "version": 3
   },
   "file_extension": ".py",
   "mimetype": "text/x-python",
   "name": "python",
   "nbconvert_exporter": "python",
   "pygments_lexer": "ipython3",
   "version": "3.11.8"
  }
 },
 "nbformat": 4,
 "nbformat_minor": 2
}
